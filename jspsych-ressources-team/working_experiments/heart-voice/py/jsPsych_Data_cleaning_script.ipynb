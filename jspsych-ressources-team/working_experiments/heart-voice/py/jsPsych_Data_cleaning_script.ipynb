{
 "cells": [
  {
   "cell_type": "markdown",
   "id": "262d372a",
   "metadata": {},
   "source": [
    "# Script idea to clean the jsPsych data and get only what is wanted"
   ]
  },
  {
   "cell_type": "markdown",
   "id": "bb0d79bd",
   "metadata": {},
   "source": [
    "### 18-03-23 MF"
   ]
  },
  {
   "cell_type": "code",
   "execution_count": 17,
   "id": "e94d660e",
   "metadata": {},
   "outputs": [
    {
     "name": "stdout",
     "output_type": "stream",
     "text": [
      "                    videoShowed   videoChoosed\n",
      "5   vid/TEST1.mp4,vid/TEST1.mp4  vid/TEST1.mp4\n",
      "9   vid/TEST1.mp4,vid/TEST1.mp4  vid/TEST1.mp4\n",
      "13  vid/TEST1.mp4,vid/TEST1.mp4  vid/TEST1.mp4\n",
      "17  vid/TEST1.mp4,vid/TEST1.mp4  vid/TEST1.mp4\n",
      "21  vid/TEST1.mp4,vid/TEST1.mp4  vid/TEST1.mp4\n",
      "25  vid/TEST1.mp4,vid/TEST1.mp4  vid/TEST1.mp4\n"
     ]
    }
   ],
   "source": [
    "import pandas as pd \n",
    "\n",
    "\n",
    "# Choose the correct .csv of data and import\n",
    "df = pd.read_csv('mydata.csv')\n",
    "\n",
    "# Subset only columns of interest\n",
    "df_cleaned = df[[\"task\",\"videoShowed\",\"videoChoosed\"]]\n",
    "\n",
    "# Only get the row with the response of the participant\n",
    "df_response = df_cleaned[df_cleaned[\"task\"] == \"REPONSE SUJET\"]\n",
    "\n",
    "# Remove the unused \"task\" column which where usefull only to subset\n",
    "df_final = df_response[[\"videoShowed\",\"videoChoosed\"]]\n",
    "\n",
    "print(df_final)\n"
   ]
  },
  {
   "cell_type": "code",
   "execution_count": null,
   "id": "c875aebe",
   "metadata": {},
   "outputs": [],
   "source": []
  }
 ],
 "metadata": {
  "kernelspec": {
   "display_name": "Python 3 (ipykernel)",
   "language": "python",
   "name": "python3"
  },
  "language_info": {
   "codemirror_mode": {
    "name": "ipython",
    "version": 3
   },
   "file_extension": ".py",
   "mimetype": "text/x-python",
   "name": "python",
   "nbconvert_exporter": "python",
   "pygments_lexer": "ipython3",
   "version": "3.9.13"
  }
 },
 "nbformat": 4,
 "nbformat_minor": 5
}
