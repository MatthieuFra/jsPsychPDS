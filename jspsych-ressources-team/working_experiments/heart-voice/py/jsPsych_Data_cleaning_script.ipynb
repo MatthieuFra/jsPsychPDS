{
 "cells": [
  {
   "cell_type": "markdown",
   "id": "22d13baf",
   "metadata": {},
   "source": [
    "# Script idea to clean the jsPsych data and get only what is wanted"
   ]
  },
  {
   "cell_type": "markdown",
   "id": "92291446",
   "metadata": {},
   "source": [
    "### 18-03-23 MF"
   ]
  },
  {
   "cell_type": "code",
   "execution_count": 4,
   "id": "45310e19",
   "metadata": {},
   "outputs": [
    {
     "name": "stdout",
     "output_type": "stream",
     "text": [
      "                     id                                               date  \\\n",
      "17  86-YZL-679850382526  Sun Mar 26 2023 19:06:40 GMT+0200 (heure d’été...   \n",
      "21  86-YZL-679850382526  Sun Mar 26 2023 19:06:43 GMT+0200 (heure d’été...   \n",
      "25  86-YZL-679850382526  Sun Mar 26 2023 19:06:46 GMT+0200 (heure d’été...   \n",
      "29  86-YZL-679850382526  Sun Mar 26 2023 19:06:49 GMT+0200 (heure d’été...   \n",
      "33  86-YZL-679850382526  Sun Mar 26 2023 19:06:52 GMT+0200 (heure d’été...   \n",
      "37  86-YZL-679850382526  Sun Mar 26 2023 19:06:57 GMT+0200 (heure d’été...   \n",
      "39  86-YZL-679850382526  Sun Mar 26 2023 19:07:02 GMT+0200 (heure d’été...   \n",
      "\n",
      "     age sex soundSystem resultRemarque                  videoShowed  \\\n",
      "17  35.0   M      Casque            NaN  vid/TEST1.mp4,vid/TEST1.mp4   \n",
      "21  35.0   M      Casque            NaN  vid/TEST1.mp4,vid/TEST1.mp4   \n",
      "25  35.0   M      Casque            NaN  vid/TEST1.mp4,vid/TEST1.mp4   \n",
      "29  35.0   M      Casque            NaN  vid/TEST1.mp4,vid/TEST1.mp4   \n",
      "33  35.0   M      Casque            NaN  vid/TEST1.mp4,vid/TEST1.mp4   \n",
      "37  35.0   M      Casque            NaN  vid/TEST1.mp4,vid/TEST1.mp4   \n",
      "39  35.0   M      Casque           ffff                          NaN   \n",
      "\n",
      "     videoChoosed  \n",
      "17  vid/TEST1.mp4  \n",
      "21  vid/TEST1.mp4  \n",
      "25  vid/TEST1.mp4  \n",
      "29  vid/TEST1.mp4  \n",
      "33  vid/TEST1.mp4  \n",
      "37  vid/TEST1.mp4  \n",
      "39            NaN  \n"
     ]
    }
   ],
   "source": [
    "import pandas as pd \n",
    "\n",
    "\n",
    "# Choose the correct .csv of data and import\n",
    "df = pd.read_csv('mydata.csv')\n",
    "\n",
    "# Only get the row with the response of the participant\n",
    "df_response = df[df_cleaned[\"task\"] == \"REPONSE SUJET\"]\n",
    "\n",
    "# Remove the unused \"task\" column which where usefull only to subset\n",
    "df_final = df_response[[\"id\", \"date\", \"age\", \"sex\", \"soundSystem\",\"videoShowed\",\"videoChoosed\", \"confidence\", \"resultRemarque\"]]\n",
    "\n",
    "print(df_final)\n",
    "\n",
    "df_final.to_csv('mydata_cleaned.csv', index=False)\n"
   ]
  },
  {
   "cell_type": "code",
   "execution_count": null,
   "id": "cf3d3bd4",
   "metadata": {},
   "outputs": [],
   "source": []
  }
 ],
 "metadata": {
  "kernelspec": {
   "display_name": "Python 3 (ipykernel)",
   "language": "python",
   "name": "python3"
  },
  "language_info": {
   "codemirror_mode": {
    "name": "ipython",
    "version": 3
   },
   "file_extension": ".py",
   "mimetype": "text/x-python",
   "name": "python",
   "nbconvert_exporter": "python",
   "pygments_lexer": "ipython3",
   "version": "3.9.13"
  }
 },
 "nbformat": 4,
 "nbformat_minor": 5
}
